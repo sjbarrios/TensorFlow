{
 "cells": [
  {
   "cell_type": "markdown",
   "metadata": {},
   "source": [
    "Universidad Galileo\n",
    "\n",
    "Statistical Learning I\n",
    "\n",
    "PAPD - Sección V\n",
    "\n",
    "Sergio José Barrios Martínez\n",
    "\n",
    "Carnet No. 19012765\n",
    "\n",
    "# Práctica No. 3"
   ]
  },
  {
   "cell_type": "code",
   "execution_count": 1,
   "metadata": {},
   "outputs": [],
   "source": [
    "import numpy as np\n",
    "import imageio as imio\n",
    "import matplotlib.pyplot as plt\n",
    "import datetime"
   ]
  },
  {
   "cell_type": "markdown",
   "metadata": {},
   "source": [
    "Si tienes algún error al ejecutar la celda anterior verifica que tu ambiente de anaconda tenga las librerías necesarias."
   ]
  },
  {
   "cell_type": "markdown",
   "metadata": {},
   "source": [
    "# Clasificación con K-nearest neighbors\n",
    "En este notebook vamos a implementar K-nearest neighbor, nuestro algoritmo va a **clasificar** a que raza pertenece la imagen de un perro, para entrenar nuestro algoritmo vamos a utilizar un set de datos contiene imagenes de 120 razas de perros, en total son 10,222 imagenes.\n",
    "\n",
    "Data: [Dog Breed Identification](https://www.kaggle.com/c/dog-breed-identification/data)"
   ]
  },
  {
   "cell_type": "markdown",
   "metadata": {},
   "source": [
    "#### Pre-procesamiento\n",
    "\n",
    "El pre-procesamiento ya fue realizado y el dataset preparado y esta listo para usarse, para esto se aplico un proceso conocido como \"transfer learning\" usando la red neuronal \"Inception\" de Google(tema a cubrirse en proximas clases)  , para esta tarea ignoremos este detalle  y pensemos que se nos da un dataset con features donde cada columna representa una característica de entrada importante,pero no nos interesa conocer los detalles. \n",
    "\n",
    "Estas features/características fueron almacenadas en un matriz de numpy.\n",
    "\n",
    "En esta parte del notebook solo hay que ejecutar las celdas para cargar los datos, estos datos van a servir de entrada para nuestra implementación de K-nearest neighbors con tensorflow.\n",
    "\n",
    "### Referencias opcionales para transfer learning y \"Google inception\"\n",
    "##### Inception\n",
    "https://www.tensorflow.org/tutorials/image_recognition\n",
    "\n",
    "https://research.googleblog.com/2016/03/train-your-own-image-classifier-with.html\n",
    "\n",
    "##### Transfer Learning\n",
    "https://www.datacamp.com/community/tutorials/transfer-learning"
   ]
  },
  {
   "cell_type": "code",
   "execution_count": 2,
   "metadata": {},
   "outputs": [],
   "source": [
    "images_inception_features = './pre-processing/training_inception_features_array.npy'\n",
    "training_image_labels_array = './pre-processing/training_image_labels_array.npy'\n",
    "training_image_names_array = './pre-processing/training_image_names_array.npy'"
   ]
  },
  {
   "cell_type": "code",
   "execution_count": 3,
   "metadata": {},
   "outputs": [],
   "source": [
    "TRAIN_DICTIONARY_KEYS = [\"images\", \"label\",\"features\"]\n",
    "\n",
    "training_set_dict = dict()\n",
    "    \n",
    "training_set_dict['images_name'] = np.load(training_image_names_array, allow_pickle=True)\n",
    "training_set_dict['label'] = np.load(training_image_labels_array, allow_pickle=True)\n",
    "training_set_dict['features'] = np.load(images_inception_features, allow_pickle=True)\n"
   ]
  },
  {
   "cell_type": "markdown",
   "metadata": {},
   "source": [
    "#  K-Nearest Neighbors"
   ]
  }
 ],
 "metadata": {
  "kernelspec": {
   "display_name": "Python 3",
   "language": "python",
   "name": "python3"
  },
  "language_info": {
   "codemirror_mode": {
    "name": "ipython",
    "version": 3
   },
   "file_extension": ".py",
   "mimetype": "text/x-python",
   "name": "python",
   "nbconvert_exporter": "python",
   "pygments_lexer": "ipython3",
   "version": "3.7.7"
  }
 },
 "nbformat": 4,
 "nbformat_minor": 4
}
