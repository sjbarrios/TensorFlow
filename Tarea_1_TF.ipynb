{
 "cells": [
  {
   "cell_type": "markdown",
   "metadata": {},
   "source": [
    "Universidad Galileo\n",
    "\n",
    "Statistical Learning I\n",
    "\n",
    "PAPD - Sección V\n",
    "\n",
    "Sergio José Barrios Martínez\n",
    "\n",
    "Carnet No. 19012765\n",
    "\n",
    "# TensorFlow: Gradient Descent y TensorBoard\n"
   ]
  },
  {
   "cell_type": "code",
   "execution_count": 1,
   "metadata": {},
   "outputs": [
    {
     "name": "stdout",
     "output_type": "stream",
     "text": [
      "WARNING:tensorflow:From C:\\Users\\Dell G5 15\\.conda\\envs\\TensorFlow\\lib\\site-packages\\tensorflow_core\\python\\compat\\v2_compat.py:88: disable_resource_variables (from tensorflow.python.ops.variable_scope) is deprecated and will be removed in a future version.\n",
      "Instructions for updating:\n",
      "non-resource variables are not supported in the long term\n",
      "Enabled compatibility to tf1.x\n"
     ]
    }
   ],
   "source": [
    "import numpy as np\n",
    "import tensorflow as tf\n",
    "import matplotlib.pyplot as plt\n",
    "import datetime\n",
    "\n",
    "if tf.__version__.startswith(\"2.\"):\n",
    "  import tensorflow.compat.v1 as tf\n",
    "  tf.compat.v1.disable_v2_behavior()\n",
    "  tf.compat.v1.disable_eager_execution()\n",
    "  print(\"Enabled compatibility to tf1.x\")"
   ]
  },
  {
   "cell_type": "markdown",
   "metadata": {},
   "source": [
    "#### Preparación de los Datos"
   ]
  },
  {
   "cell_type": "code",
   "execution_count": 2,
   "metadata": {},
   "outputs": [
    {
     "data": {
      "image/png": "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\n",
      "text/plain": [
       "<Figure size 432x288 with 1 Axes>"
      ]
     },
     "metadata": {
      "needs_background": "light"
     },
     "output_type": "display_data"
    }
   ],
   "source": [
    "Data = np.load('proyecto_training_data.npy') # Carga de Datos desde Archivo Fuente del Proyecto No. 1\n",
    "#Y = np.squeeze(Data[:,[0]]) # SalePrice\n",
    "#X = np.squeeze(Data[:,[1]]) # OverallQual\n",
    "\n",
    "Y = Data[:,[0]] # SalePrice\n",
    "X = Data[:,[1]] # OverallQual\n",
    "\n",
    "# Visualización Preliminar\n",
    "plt.scatter(X.transpose(), Y.transpose(),c='purple',s=10)\n",
    "plt.title('SalePrice vrs. OverallQual')\n",
    "plt.xlabel('OverallQual')\n",
    "plt.ylabel('SalePrice')\n",
    "plt.show()"
   ]
  },
  {
   "cell_type": "markdown",
   "metadata": {},
   "source": [
    "### Definición del Grafo"
   ]
  },
  {
   "cell_type": "code",
   "execution_count": 3,
   "metadata": {},
   "outputs": [],
   "source": [
    "\n",
    "grafo = tf.Graph()\n",
    "\n",
    "\n",
    "with grafo.as_default():\n",
    "    # Placeholders\n",
    "    learning_rate = tf.placeholder(tf.float32,name=\"lr\") # Hiper-parámetro de Tasa de Aprendizaje\n",
    "    tensor_x = tf.placeholder(tf.float32,[len(X),2],\"tensor_x\") # Placeholder de OverallQual en el grafo.\n",
    "    tensor_y = tf.placeholder(tf.float32,[len(Y),1],\"tensor_y\") # Placeholder de SalesPrice en el grafo.\n",
    "\n",
    "    # Variables\n",
    "    W = tf.get_variable(name=\"W\",dtype=tf.float32,shape=[2,1],initializer=tf.zeros_initializer())\n",
    "    m = tf.get_variable(\"pendiente\",dtype=tf.float32,shape=[1],initializer=tf.zeros_initializer())\n",
    "    b = tf.get_variable(\"intercepto\",dtype=tf.float32,shape=[1],initializer=tf.zeros_initializer())\n",
    "\n",
    "    with tf.name_scope(\"modelo_lineal\"):\n",
    "        prediccion = tf.matmul(tensor_x,W) # Hipótesis del modelo y = mx + b\n",
    "\n",
    "    with tf.name_scope(\"error_modelo\"):\n",
    "        # Error de la Hipótesis\n",
    "        error = tf.reduce_mean(tf.math.square(tf.math.subtract(tensor_y,prediccion))) / 2\n",
    "        error_summary = tf.summary.scalar(\"error\",error)\n",
    "\n",
    "    with tf.name_scope(\"gradiente_error\"):\n",
    "        # Gradiente sobre el error (m,b)\n",
    "        gradiente = tf.reduce_mean(tf.multiply(tensor_x,tf.math.subtract(prediccion,tensor_y)),axis=0) \n",
    "\n",
    "    with tf.name_scope(\"actualizacion_parametros\"):\n",
    "        # Actualización de parámetros\n",
    "        actualizacion_m = tf.assign(W[0], W[0] - learning_rate*gradiente[0])\n",
    "        actualizacion_b = tf.assign(W[1], W[1] - learning_rate*gradiente[1])\n",
    "        actualizacion_parametros = tf.group(actualizacion_m,actualizacion_b)\n",
    "\n",
    "    with tf.name_scope(\"registro_iteracion\"):\n",
    "        # Visualización\n",
    "        visualizar_m = tf.assign(m,W[0])\n",
    "        visualizar_b = tf.assign(b,W[1])\n",
    "        m_summary = tf.summary.scalar(\"pendiente\",visualizar_m[0])\n",
    "        b_summary = tf.summary.scalar(\"intercepto\",visualizar_b[0])\n",
    "    \n",
    "    init = tf.global_variables_initializer()"
   ]
  },
  {
   "cell_type": "markdown",
   "metadata": {},
   "source": [
    "### Grafo en Tensorboard\n",
    "\n",
    "\n",
    "#### Por Name Scope:\n",
    "\n",
    "\n",
    "<img src=\".//Imagenes//Grafo.png/">\n",
    "\n",
    "#### Detalles:\n",
    "\n",
    "\n",
    "<img src=\".\\Imagenes\\Grafo_Desplegado.png\">"
   ]
  },
  {
   "cell_type": "markdown",
   "metadata": {},
   "source": [
    "### Función de Ejecución"
   ]
  },
  {
   "cell_type": "code",
   "execution_count": 8,
   "metadata": {},
   "outputs": [],
   "source": [
    "# Función de Entrenamiento con Batch Gradient Descent (parámetros Learning Rate y Número de Iteraciones)\n",
    "def entrenamiento(lr,iteraciones):\n",
    "    \n",
    "    now = datetime.datetime.now()\n",
    "    \n",
    "    tf.reset_default_graph()\n",
    "    with tf.Session(graph=grafo) as session:\n",
    "\n",
    "        # String de Configuración (\"Año\"\"Mes\"\"Dia\"-\"Hora\"\"Minuto\"\"Segundo\"-\"lr=\"\"valor Learning Rate\"-\"it=\"\"iteracion\")\n",
    "        writer = tf.summary.FileWriter('./graphs/'+now.strftime(\"%Y%m%d-%H%M%S\")+'-lr='+str(lr)+'-it='+str(iteraciones), \n",
    "                                       session.graph)\n",
    " \n",
    "        session.run(init) # Inicialización de Variables\n",
    "\n",
    "        # Preparación de Matriz X para cálculo vectorizado en la forma Y=X*W para (Y=mX+b)\n",
    "        unos = np.ones((np.size(X), 1)) \n",
    "        matriz_x = np.concatenate((X,unos),axis=1)\n",
    "\n",
    "        feed_dict = {tensor_x:matriz_x,tensor_y:Y,learning_rate:lr}\n",
    "        predicciones = session.run(prediccion,feed_dict=feed_dict)\n",
    "\n",
    "        for i in range(iteraciones):\n",
    "\n",
    "            if (i+1) % 10 == 0 or i == 0:\n",
    "\n",
    "                MSE_summary = session.run(error_summary,feed_dict=feed_dict)\n",
    "                writer.add_summary(MSE_summary, i) # Escalar del MSE\n",
    "\n",
    "                pendiente_summary = session.run(m_summary,feed_dict=feed_dict)\n",
    "                writer.add_summary(pendiente_summary, i) # Escalar de la pendiente \"m\"\n",
    "\n",
    "                intercepto_summary = session.run(b_summary,feed_dict=feed_dict)\n",
    "                writer.add_summary(intercepto_summary, i) # Escalar del intercepto \"b\"\n",
    "            \n",
    "            # Gradient Descent\n",
    "            session.run(actualizacion_parametros,feed_dict=feed_dict)\n",
    "            predicciones = session.run(prediccion,feed_dict=feed_dict)\n",
    "\n",
    "        writer.close()"
   ]
  },
  {
   "cell_type": "markdown",
   "metadata": {},
   "source": [
    "### Experimentos\n",
    "\n",
    "La serie de experimentos intentarán encontrar un set de hiper-parámetros que permitan obtener el modelo lineal óptimo para el problema de predicción de Precios de Casas, basado en la variable de Calidad (SalesPrice ~ OverallQual). Los hiper-parámetros a encontrar serán la tasa de aprendizaje (Learning Rate) y el número de iteraciones.\n",
    "\n",
    "Cómo pudo verse en clase, no existe una metodología única para determinar estos parámetros de forma analítica en todos los casos. Por este motivo se recurre muchas veces a la experimentación y análisis de resultados para hacer la comparativa y seleccionar el mejor set de hiper-parámetros que cumplan el propósito.\n",
    "\n",
    "En este experimento, la Tarea (Task) del algoritmo será encontrar la mejor combinación de valores por medio de la Experiencia dada por todo el conjunto de datos de Precios de Casas y su respectiva medida de la Calidad. Su Desempeño (Performance) será medido por el tamaño del error del modelo (en este caso particular, el MSE del modelo lineal).\n",
    "\n",
    "#### Hipótesis Inicial:\n",
    "Para iniciar la serie de experimentos, se necesitan considerar dos factores del algoritmo para encontrar el set de parámetros óptimos:\n",
    "   - **Qué tan rápido** será el algoritmo, determinado por su tasa de aprendizaje.\n",
    "   - **Cuánto recurso computacional** requerirá el algoritmo, determinado por el número de iteraciones.\n",
    "\n",
    "La forma de determinar cuando se acerca el algoritmo al set óptimo de parámetros será la convergencia del error, es decir, el trabajo consistirá en determinar el *learning rate* más alto que permita la convergencia del MSE, con la menor cantidad de *iteraciones* posibles (aprendizaje rápido y recurso computacional mínimo).\n",
    "\n",
    "Dado que se corre el riesgo de divergencia del error si se escoge un learning rate demasiado alto, se comenzará con un valor arbitrario \"bajo\" para el primer experimento, aunque esto posiblemente requiera mayor número de iteraciones. Para saber en qué punto se encuentra, se ejecutará el primer experimento.\n",
    "\n",
    "\n",
    "\n",
    "#### Experimento No. 1:\n",
    "##### Learning Rate: 0.0001, Iteraciones: 1000"
   ]
  },
  {
   "cell_type": "code",
   "execution_count": 9,
   "metadata": {},
   "outputs": [],
   "source": [
    "entrenamiento(0.0001,1000)"
   ]
  },
  {
   "cell_type": "markdown",
   "metadata": {},
   "source": [
    "<img src=\".\\Imagenes\\LR0001-IT1000.png\">\n",
    "\n",
    "<img src=\".\\Imagenes\\LR0001-IT1000mb.png\">\n",
    "\n",
    "\n",
    "Este resultado muestra que efectivamente el error va convergiendo con cada iteración, por lo cual se sabe que la selección del learning rate está al menos del lado \"seguro\" (sin causar divergencia). Este mismo patrón puede observarse para los parámetros de \"pendiente\" e \"intercepto\".\n",
    "En los gráficos puede verse que el error aún sigue bajando, por lo que se deduce que aún no se alcanza el mínimo. Además, tiene un número relativamente grande de iteraciones. El siguiente paso será incrementar el learning rate y observar el comportamiento.\n",
    "\n",
    "Se propone incrementar el learning rate 10 veces, y disminuir 10 veces el número de iteraciones.\n",
    "\n",
    "\n",
    "#### Experimento No. 2:\n",
    "##### Learning Rate: 0.001, Iteraciones: 100\n"
   ]
  },
  {
   "cell_type": "code",
   "execution_count": 10,
   "metadata": {},
   "outputs": [],
   "source": [
    "entrenamiento(0.001,100)"
   ]
  },
  {
   "cell_type": "markdown",
   "metadata": {},
   "source": [
    "<img src=\".\\Imagenes\\LR001-IT100.png\">\n",
    "<img src=\".\\Imagenes\\LR001-IT100mb.png\">\n",
    "\n",
    "Efecivamente puede observarse que la rapidez de convergencia mejoró tanto al incrementar el learning rate como al diminuir el número de iteraciones, con casi el mismo desempeño que al tener 1000 iteraciones. Esto redujo la carga computacional al menos 10 veces.\n",
    "\n",
    "Los siguientes pasos serán seguir aumentando el learning rate y disminuir el número de iteraciones.\n",
    "\n",
    "Para el Experimento No. 3 mantendremos el número de iteraciones y aumentaremos el learning rate.\n",
    "\n",
    "#### Experimento No. 3:\n",
    "##### Learning Rate: 0.005, Iteraciones: 100\n"
   ]
  },
  {
   "cell_type": "code",
   "execution_count": 12,
   "metadata": {},
   "outputs": [],
   "source": [
    "entrenamiento(0.005,100)"
   ]
  },
  {
   "cell_type": "markdown",
   "metadata": {},
   "source": [
    "<img src=\".\\Imagenes\\LR005-IT100.png\">\n",
    "<img src=\".\\Imagenes\\LR005-IT100mb.png\">\n",
    "\n",
    "Este experimento muestra dos tendencias interesantes: La convergencia del MSE se logra más rápido, pues en la 20va iteración se logra prácticamente el mismo resultado que en la 100ma iteración con learning rate 0.1. La forma \"rectangular\" de la curva se explica porque el algoritmo guarda información cada 10 iteraciones (ver el código).\n",
    "\n",
    "Además, el comportamiento del intercepto \"b\" que parecía converger con learning rates más bajos, en realidad muestra una tendencia a disminuir.\n",
    "\n",
    "Para poder observar este comportamiento del intercepto se experimentará incrementando únicamente el número de iteraciones.\n",
    "\n",
    "\n",
    "#### Experimento No. 4:\n",
    "##### Learning Rate: 0.005, Iteraciones: 1000\n",
    "\n"
   ]
  },
  {
   "cell_type": "code",
   "execution_count": 20,
   "metadata": {},
   "outputs": [],
   "source": [
    "entrenamiento(0.005,1000)"
   ]
  },
  {
   "cell_type": "markdown",
   "metadata": {},
   "source": [
    "<img src=\".\\Imagenes\\LR005-IT1000.png\">\n",
    "<img src=\".\\Imagenes\\LR005-IT1000mb.png\">\n",
    "\n",
    "Este resultado muestra que el MSE continua bajando al seguir incrementando las iteraciones. Ya no al mismo ritmo inicial, pero continúa haciendo. Esto se refleja también en el comportamiento del intercepto y la pendiente. Más específicamente el intercepto, que muestra una tendencia a decrementar.\n",
    "\n",
    "Buscaremos entonces incrementar el Learning Rate, manteniendoel número de iteraciones:\n",
    "\n",
    "\n",
    "#### Experimento No. 5:\n",
    "##### Learning Rate: 0.01, Iteraciones: 1000"
   ]
  },
  {
   "cell_type": "code",
   "execution_count": 21,
   "metadata": {},
   "outputs": [],
   "source": [
    "entrenamiento(0.01,1000)"
   ]
  },
  {
   "cell_type": "markdown",
   "metadata": {},
   "source": [
    "<img src=\".\\Imagenes\\LR01-IT1000.png\">\n",
    "<img src=\".\\Imagenes\\LR01-IT1000mb.png\">\n",
    "\n",
    "Este resultado muestra que el MSE continua bajando al seguir incrementando el learning rate.\n",
    "Para poder encontrar el modelo óptimo, debemos encontrar un punto donde el MSE ya no continúe bajando, y en cambio empiece a incrementar. Se experimentará incrementando gradualmente el Learning Rate.\n",
    "\n",
    "\n",
    "#### Experimento No. 6:\n",
    "##### Learning Rate: 0.02, Iteraciones: 1000\n"
   ]
  },
  {
   "cell_type": "code",
   "execution_count": 22,
   "metadata": {},
   "outputs": [],
   "source": [
    "entrenamiento(0.02,1000)"
   ]
  },
  {
   "cell_type": "markdown",
   "metadata": {},
   "source": [
    "<img src=\".\\Imagenes\\LR02-IT1000.png\">\n",
    "<img src=\".\\Imagenes\\LR02-IT1000mb.png\">\n",
    "\n",
    "Este resultado muestra que el MSE continua bajando al seguir incrementando el learning rate.\n",
    "Se puede ver algo interesante, y es que con este nuevo learning rate el MSE empieza a mostrar una tendencia a converger (curva). Para poder encontrar el modelo óptimo, debemos encontrar un punto donde el MSE ya no continúe bajando, y en cambio empiece a incrementar. Se continuará en adelante incrementando gradualmente el Learning Rate.\n",
    "\n",
    "#### Experimento No. 7:\n",
    "##### Learning Rate: 0.03, Iteraciones: 1000"
   ]
  },
  {
   "cell_type": "code",
   "execution_count": 23,
   "metadata": {},
   "outputs": [],
   "source": [
    "entrenamiento(0.03,1000)"
   ]
  },
  {
   "cell_type": "markdown",
   "metadata": {},
   "source": [
    "<img src=\".\\Imagenes\\LR03-IT1000.png\">\n",
    "<img src=\".\\Imagenes\\LR03-IT1000mb.png\">\n",
    "\n",
    "Este resultado muestra que el MSE continua bajando al seguir incrementando el learning rate.\n",
    "Continua la tendencia del MSE a converger (curva). Para poder encontrar el modelo óptimo, debemos encontrar un punto donde el MSE ya no continúe bajando, y en cambio empiece a incrementar. Se continuará en adelante incrementando gradualmente el Learning Rate.\n",
    "\n",
    "#### Experimento No. 8:\n",
    "##### Learning Rate: 0.04, Iteraciones: 1000"
   ]
  },
  {
   "cell_type": "code",
   "execution_count": 24,
   "metadata": {},
   "outputs": [],
   "source": [
    "entrenamiento(0.04,1000)"
   ]
  },
  {
   "cell_type": "markdown",
   "metadata": {},
   "source": [
    "<img src=\".\\Imagenes\\LR04-IT1000.png\">\n",
    "<img src=\".\\Imagenes\\LR04-IT1000mb.png\">\n",
    "\n",
    "Este resultado muestra que el MSE continua bajando al seguir incrementando el learning rate.\n",
    "Continua la tendencia del MSE a converger (curva). Para poder encontrar el modelo óptimo, debemos encontrar un punto donde el MSE ya no continúe bajando, y en cambio empiece a incrementar. Se continuará en adelante incrementando gradualmente el Learning Rate.\n",
    "\n",
    "#### Experimento No. 9:\n",
    "##### Learning Rate: 0.05, Iteraciones: 1000"
   ]
  },
  {
   "cell_type": "code",
   "execution_count": 25,
   "metadata": {},
   "outputs": [],
   "source": [
    "entrenamiento(0.05,1000)"
   ]
  },
  {
   "cell_type": "markdown",
   "metadata": {},
   "source": [
    "<img src=\".\\Imagenes\\LR05-IT1000.png\">\n",
    "<img src=\".\\Imagenes\\LR05-IT1000mb.png\">\n",
    "\n",
    "Este resultado muestra que el MSE ya empieza a mostrar ***divergencia***. El error prácticamente crece sin control, por lo cual sabemos que para esta combinación de Learning Rate e Iteraciones, el modelo no converge y debemos ajustar en la otra dirección.\n",
    "Para el experimento final, ajustaremos el learning rate a un valor más adecuado, decrementando luego de haber encontrado un punto de divergencia.\n",
    "\n",
    "#### Experimento No. 10:\n",
    "##### Learning Rate: 0.045, Iteraciones: 1000"
   ]
  },
  {
   "cell_type": "code",
   "execution_count": 26,
   "metadata": {},
   "outputs": [],
   "source": [
    "entrenamiento(0.045,1000)"
   ]
  },
  {
   "cell_type": "markdown",
   "metadata": {},
   "source": [
    "<img src=\".\\Imagenes\\LR045-IT1000.png\">\n",
    "<img src=\".\\Imagenes\\LR045-IT1000mb.png\">\n",
    "\n",
    "## Conclusiones\n",
    "\n",
    "- La serie de experimentos sirvió para poder encontrar el punto óptimo o combinación de parámetros para la \"pendiente\" y el \"intercepto\" del modelo lineal, por medio de la minimización del MSE.\n",
    "- Para poder encontrar este mínimo MSE fue necesario experimentar con distintas combinaciones de hiper-parámetros de *Learning Rate* e *iteraciones*.\n",
    "- A mayor *Learning Rate*, menor cantidad de *iteraciones* necesarias y por tanto, menor carga computacional. Sin embargo, mayor riesgo de divergencia del MSE.\n",
    "- A menor *Learning Rate*, mayor cantidad de *iteraciones* necesarias y por tanto, mayor carga computacional. Sin embargo, menor riesgo de divergencia del MSE.\n",
    "- Para encontrar el mínimo MSE fue necesario comenzar con una *learning rate* baja y muchas *iteraciones* (combinación conservadora), e ir incrementando gradualmente, hasta encontrar el punto donde el MSE converge.\n",
    "- Fue posible determinar este punto, ya que más allá de éste, se encontró un comportamiento divergente en el MSE.\n",
    "\n",
    "\n",
    "#### Resumen Experimentos:\n",
    "\n",
    "A continuación se muestra el resumen de experimentos, cada uno con su **string de configuración**.\n",
    "<img src=\".\\Imagenes\\Resumen.png\">\n"
   ]
  }
 ],
 "metadata": {
  "kernelspec": {
   "display_name": "Python 3",
   "language": "python",
   "name": "python3"
  },
  "language_info": {
   "codemirror_mode": {
    "name": "ipython",
    "version": 3
   },
   "file_extension": ".py",
   "mimetype": "text/x-python",
   "name": "python",
   "nbconvert_exporter": "python",
   "pygments_lexer": "ipython3",
   "version": "3.7.7"
  }
 },
 "nbformat": 4,
 "nbformat_minor": 4
}
