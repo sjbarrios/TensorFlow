{
 "cells": [
  {
   "cell_type": "markdown",
   "metadata": {},
   "source": [
    "Universidad Galileo\n",
    "\n",
    "Statistical Learning I\n",
    "\n",
    "PAPD - Sección V\n",
    "\n",
    "Sergio José Barrios Martínez\n",
    "\n",
    "Carnet No. 19012765\n",
    "\n",
    "# Práctica No. 2\n",
    "## Parte 1: Regresión Polinomial & Feature Engineering\n",
    "\n",
    "Modelo exponencial de covid-19 usando feature-eng\n"
   ]
  },
  {
   "cell_type": "code",
   "execution_count": 14,
   "metadata": {},
   "outputs": [
    {
     "name": "stdout",
     "output_type": "stream",
     "text": [
      "Enabled compatitility to tf1.x\n"
     ]
    }
   ],
   "source": [
    "import numpy as np\n",
    "import pandas as pd\n",
    "import matplotlib.pyplot as plt\n",
    "import datetime\n",
    "import tensorflow as tf\n",
    "if tf.__version__.startswith(\"2.\"):\n",
    "  import tensorflow.compat.v1 as tf\n",
    "  tf.compat.v1.disable_v2_behavior()\n",
    "  tf.compat.v1.disable_eager_execution()\n",
    "  print(\"Enabled compatitility to tf1.x\")"
   ]
  },
  {
   "cell_type": "code",
   "execution_count": 15,
   "metadata": {},
   "outputs": [],
   "source": [
    "covid19_data = pd.read_csv('covid_19_clean_complete.csv')\n",
    "covid19_data[\"Date\"] = pd.to_datetime(covid19_data[\"Date\"],infer_datetime_format = True)"
   ]
  },
  {
   "cell_type": "code",
   "execution_count": 16,
   "metadata": {},
   "outputs": [
    {
     "data": {
      "text/plain": [
       "<matplotlib.axes._subplots.AxesSubplot at 0x1ec4a3c6208>"
      ]
     },
     "execution_count": 16,
     "metadata": {},
     "output_type": "execute_result"
    },
    {
     "data": {
      "image/png": "[encoded data removed]",
      "text/plain": [
       "<Figure size 432x288 with 1 Axes>"
      ]
     },
     "metadata": {
      "needs_background": "light"
     },
     "output_type": "display_data"
    }
   ],
   "source": [
    "GT_confirmed = covid19_data[(covid19_data[\"Country/Region\"] == 'Guatemala') & (covid19_data[\"Confirmed\"] > 0)].copy()\n",
    "GT_confirmed.plot.scatter(x = \"Date\",y=\"Confirmed\")"
   ]
  },
  {
   "cell_type": "code",
   "execution_count": 17,
   "metadata": {},
   "outputs": [
    {
     "data": {
      "text/plain": [
       "<matplotlib.axes._subplots.AxesSubplot at 0x1ec4aa3a888>"
      ]
     },
     "execution_count": 17,
     "metadata": {},
     "output_type": "execute_result"
    },
    {
     "data": {
      "image/png": "[encoded data removed]",
      "text/plain": [
       "<Figure size 432x288 with 1 Axes>"
      ]
     },
     "metadata": {
      "needs_background": "light"
     },
     "output_type": "display_data"
    }
   ],
   "source": [
    "GT_confirmed[\"ln(confirmed)\"] = np.log(GT_confirmed[\"Confirmed\"])\n",
    "GT_confirmed.plot.scatter(x = \"Date\",y=\"ln(confirmed)\")"
   ]
  },
  {
   "cell_type": "code",
   "execution_count": 18,
   "metadata": {},
   "outputs": [
    {
     "data": {
      "text/html": [
       "<div>\n",
       "<style scoped>\n",
       "    .dataframe tbody tr th:only-of-type {\n",
       "        vertical-align: middle;\n",
       "    }\n",
       "\n",
       "    .dataframe tbody tr th {\n",
       "        vertical-align: top;\n",
       "    }\n",
       "\n",
       "    .dataframe thead th {\n",
       "        text-align: right;\n",
       "    }\n",
       "</style>\n",
       "<table border=\"1\" class=\"dataframe\">\n",
       "  <thead>\n",
       "    <tr style=\"text-align: right;\">\n",
       "      <th></th>\n",
       "      <th>Province/State</th>\n",
       "      <th>Country/Region</th>\n",
       "      <th>Lat</th>\n",
       "      <th>Long</th>\n",
       "      <th>Date</th>\n",
       "      <th>Confirmed</th>\n",
       "      <th>Deaths</th>\n",
       "      <th>Recovered</th>\n",
       "      <th>ln(confirmed)</th>\n",
       "    </tr>\n",
       "  </thead>\n",
       "  <tbody>\n",
       "    <tr>\n",
       "      <th>13903</th>\n",
       "      <td>NaN</td>\n",
       "      <td>Guatemala</td>\n",
       "      <td>15.7835</td>\n",
       "      <td>-90.2308</td>\n",
       "      <td>2020-03-14</td>\n",
       "      <td>1</td>\n",
       "      <td>0</td>\n",
       "      <td>0</td>\n",
       "      <td>0.000000</td>\n",
       "    </tr>\n",
       "    <tr>\n",
       "      <th>14168</th>\n",
       "      <td>NaN</td>\n",
       "      <td>Guatemala</td>\n",
       "      <td>15.7835</td>\n",
       "      <td>-90.2308</td>\n",
       "      <td>2020-03-15</td>\n",
       "      <td>1</td>\n",
       "      <td>0</td>\n",
       "      <td>0</td>\n",
       "      <td>0.000000</td>\n",
       "    </tr>\n",
       "    <tr>\n",
       "      <th>14433</th>\n",
       "      <td>NaN</td>\n",
       "      <td>Guatemala</td>\n",
       "      <td>15.7835</td>\n",
       "      <td>-90.2308</td>\n",
       "      <td>2020-03-16</td>\n",
       "      <td>2</td>\n",
       "      <td>1</td>\n",
       "      <td>0</td>\n",
       "      <td>0.693147</td>\n",
       "    </tr>\n",
       "    <tr>\n",
       "      <th>14698</th>\n",
       "      <td>NaN</td>\n",
       "      <td>Guatemala</td>\n",
       "      <td>15.7835</td>\n",
       "      <td>-90.2308</td>\n",
       "      <td>2020-03-17</td>\n",
       "      <td>6</td>\n",
       "      <td>1</td>\n",
       "      <td>0</td>\n",
       "      <td>1.791759</td>\n",
       "    </tr>\n",
       "    <tr>\n",
       "      <th>14963</th>\n",
       "      <td>NaN</td>\n",
       "      <td>Guatemala</td>\n",
       "      <td>15.7835</td>\n",
       "      <td>-90.2308</td>\n",
       "      <td>2020-03-18</td>\n",
       "      <td>6</td>\n",
       "      <td>1</td>\n",
       "      <td>0</td>\n",
       "      <td>1.791759</td>\n",
       "    </tr>\n",
       "  </tbody>\n",
       "</table>\n",
       "</div>"
      ],
      "text/plain": [
       "      Province/State Country/Region      Lat     Long       Date  Confirmed  \\\n",
       "13903            NaN      Guatemala  15.7835 -90.2308 2020-03-14          1   \n",
       "14168            NaN      Guatemala  15.7835 -90.2308 2020-03-15          1   \n",
       "14433            NaN      Guatemala  15.7835 -90.2308 2020-03-16          2   \n",
       "14698            NaN      Guatemala  15.7835 -90.2308 2020-03-17          6   \n",
       "14963            NaN      Guatemala  15.7835 -90.2308 2020-03-18          6   \n",
       "\n",
       "       Deaths  Recovered  ln(confirmed)  \n",
       "13903       0          0       0.000000  \n",
       "14168       0          0       0.000000  \n",
       "14433       1          0       0.693147  \n",
       "14698       1          0       1.791759  \n",
       "14963       1          0       1.791759  "
      ]
     },
     "execution_count": 18,
     "metadata": {},
     "output_type": "execute_result"
    }
   ],
   "source": [
    "GT_confirmed.head()"
   ]
  },
  {
   "cell_type": "markdown",
   "metadata": {},
   "source": [
    "### Selección del Conjunto de Datos\n",
    "\n",
    "En este proceso se agregará una columna con el número de día, que se obtendrá a partir de un día inicial y la fecha contenida en el dataset original. Para ello, se implementará una función que recibe:\n",
    "- La fecha para el día inicial\n",
    "- DataFrame con los Datos\n",
    "\n",
    "La función retornará el nuevo conjunto de datos y un scatter plot de la transformación logarítmica (logaritmo natural), para facilitar la selección del día inicial.\n"
   ]
  },
  {
   "cell_type": "markdown",
   "metadata": {},
   "source": [
    "Posteriormente, se crea una función que permita elegir el día inicial, a partir del cual se desea hacer la regresión. "
   ]
  },
  {
   "cell_type": "code",
   "execution_count": 19,
   "metadata": {},
   "outputs": [],
   "source": [
    "def dia_inicial(Fecha,DataFrame):        \n",
    "    dia = DataFrame[\"Date\"]\n",
    "    numero_dia = (pd.to_datetime(dia) - pd.to_datetime(Fecha)).dt.days\n",
    "    DataFrame['dia']=numero_dia\n",
    "    DataFrame = DataFrame[(DataFrame[\"dia\"] >= 0)].copy()\n",
    "    \n",
    "    DataFrame[\"ln(confirmed)\"] = np.log(DataFrame[\"Confirmed\"])\n",
    "    DataFrame.plot.scatter(x=\"dia\",y=\"ln(confirmed)\")\n",
    "    \n",
    "    return (DataFrame)"
   ]
  },
  {
   "cell_type": "code",
   "execution_count": 20,
   "metadata": {},
   "outputs": [
    {
     "data": {
      "image/png": "[encoded data removed]",
      "text/plain": [
       "<Figure size 432x288 with 1 Axes>"
      ]
     },
     "metadata": {
      "needs_background": "light"
     },
     "output_type": "display_data"
    }
   ],
   "source": [
    "Datos_COVID = dia_inicial('2020-03-14',GT_confirmed)"
   ]
  },
  {
   "cell_type": "markdown",
   "metadata": {},
   "source": [
    "Se verifica el resultado de la transformación con logaritmo natural. Se comprueba que para fechas menores al 22 de Marzo (día 8), los datos son atípicos, ya que los puntos tienen un comportamiento no lineal. Por lo cual se cambiará la selección para empezar el 22 de Marzo."
   ]
  },
  {
   "cell_type": "code",
   "execution_count": 21,
   "metadata": {},
   "outputs": [
    {
     "data": {
      "image/png": "[encoded data removed]",
      "text/plain": [
       "<Figure size 432x288 with 1 Axes>"
      ]
     },
     "metadata": {
      "needs_background": "light"
     },
     "output_type": "display_data"
    }
   ],
   "source": [
    "Datos_COVID = dia_inicial('2020-03-22',GT_confirmed)"
   ]
  },
  {
   "cell_type": "markdown",
   "metadata": {},
   "source": [
    "Se entrenará entonces un modelo lineal, utilizando \"día\" como variable independiente y \"Confirmed\" como independiente.\n",
    "\n",
    "Se utilizará para esto TensorFlow y Regresión Lineal simple.\n",
    "\n",
    "#### Definición del Grafo"
   ]
  },
  {
   "cell_type": "code",
   "execution_count": 40,
   "metadata": {},
   "outputs": [],
   "source": [
    "grafo_COVID = tf.Graph()\n",
    "\n",
    "with grafo_COVID.as_default():\n",
    "    \n",
    "    # Placeholders\n",
    "    learning_rate_COVID = tf.placeholder(tf.float32,name=\"lr\") # Hiper-parámetro de Tasa de Aprendizaje\n",
    "    tensor_x_COVID = tf.placeholder(tf.float32,[59,2],\"tensor_x\") # Placeholder de Matriz de Features.\n",
    "    tensor_y_COVID = tf.placeholder(tf.float32,[59,1],\"tensor_y\") # Placeholder de Calidad en el grafo.\n",
    "\n",
    "    # Variables \n",
    "    W_COVID = tf.get_variable(name=\"W\",dtype=tf.float32,shape=[2,1],initializer=tf.zeros_initializer())\n",
    "\n",
    "    # Cálculo vectorizado del Modelo Y = x*W\n",
    "    with tf.name_scope(\"modelo_lineal\"):\n",
    "        prediccion_COVID = tf.matmul(tensor_x_COVID,W_COVID) # Hipótesis del modelo\n",
    "\n",
    "    with tf.name_scope(\"error_modelo\"):\n",
    "        # Cálculo vectorizado del Error de la Hipótesis (MSE)\n",
    "        error_COVID = tf.reduce_mean(tf.math.square(tf.math.subtract(tensor_y_COVID,prediccion_COVID))) / 2\n",
    "        error_summary_COVID = tf.summary.scalar(\"error\",error_COVID)\n",
    "\n",
    "    with tf.name_scope(\"gradiente_error\"):\n",
    "        # Gradiente sobre el error (m1,b)\n",
    "        gradiente_COVID = tf.gradients(error_COVID,[W_COVID]) # Se usa la auto-diferenciación de TensorFlow\n",
    "\n",
    "    with tf.name_scope(\"actualizacion_parametros\"):\n",
    "        # Actualización de parámetros\n",
    "        actualizacion_m_COVID = tf.assign(W_COVID[0], W_COVID[0] - learning_rate_COVID*gradiente_COVID[0][0]) # Intercepto\n",
    "        actualizacion_b_COVID = tf.assign(W_COVID[1], W_COVID[1] - learning_rate_COVID*gradiente_COVID[0][1]) # Pendiente\n",
    "        actualizacion_parametros_COVID = tf.group(actualizacion_b_COVID,actualizacion_m_COVID)\n",
    "    \n",
    "    init = tf.global_variables_initializer()"
   ]
  },
  {
   "cell_type": "markdown",
   "metadata": {},
   "source": [
    "### Grafo\n",
    "\n",
    "<img src=\"./Imagenes_t2/Grafo.png\">\n",
    "\n",
    "\n",
    "### Despliegue de Grafo\n",
    "\n",
    "<img src=\"./Imagenes_t2/Grafo_Desplegado.png\">"
   ]
  },
  {
   "cell_type": "markdown",
   "metadata": {},
   "source": [
    "### Ejecución"
   ]
  },
  {
   "cell_type": "code",
   "execution_count": 66,
   "metadata": {},
   "outputs": [],
   "source": [
    "# Función de Entrenamiento con Batch Gradient Descent (parámetros Learning Rate y Número de Iteraciones)\n",
    "def entrenamiento_COVID(lr_COVID,iteraciones_COVID):\n",
    "    \n",
    "    now = datetime.datetime.now()\n",
    "    \n",
    "    tf.reset_default_graph()\n",
    "    with tf.Session(graph=grafo_COVID) as session:\n",
    "\n",
    "        # String de Configuración (\"Año\"\"Mes\"\"Dia\"-\"Hora\"\"Minuto\"\"Segundo\"-\"lr=\"\"valor Learning Rate\"-\"it=\"\"iteracion\")\n",
    "        writer = tf.summary.FileWriter('./graphs_COVID/'+now.strftime(\"%Y%m%d-%H%M%S\")+'-lr=' \\\n",
    "                                       +str(lr_COVID)+'-it='+str(iteraciones_COVID), \n",
    "                                       session.graph)\n",
    " \n",
    "        session.run(init) # Inicialización de Variables\n",
    "\n",
    "        # Preparación de Matriz X para cálculo vectorizado en la forma Y=X*W para (Y=mX+b)\n",
    "        unos = np.ones((np.size(X_COVID), 1)) \n",
    "        matriz_x_COVID = np.concatenate((X_COVID,unos),axis=1)\n",
    "\n",
    "        feed_dict = {tensor_x_COVID:matriz_x_COVID,tensor_y_COVID:Y_trans_COVID,learning_rate_COVID:lr_COVID}\n",
    "        predicciones_COVID = session.run(prediccion_COVID,feed_dict=feed_dict)\n",
    "\n",
    "        for i in range(iteraciones_COVID):\n",
    "\n",
    "            if (i+1) % 10 == 0 or i == 0:\n",
    "\n",
    "                MSE_summary_COVID = session.run(error_summary_COVID,feed_dict=feed_dict)\n",
    "                writer.add_summary(MSE_summary_COVID, i) # Escalar del MSE\n",
    "\n",
    "         \n",
    "            # Gradient Descent\n",
    "            session.run(actualizacion_parametros_COVID,feed_dict=feed_dict)\n",
    "            predicciones_COVID = session.run(prediccion_COVID,feed_dict=feed_dict)\n",
    "        \n",
    "        print(\"Coeficientes Modelo Lineal:\")\n",
    "        print(\"intercepto: \",session.run([W_COVID][0][1][0]))\n",
    "        print(\"pendiente: \",session.run([W_COVID][0][0][0]))\n",
    "        writer.close()"
   ]
  },
  {
   "cell_type": "code",
   "execution_count": 95,
   "metadata": {},
   "outputs": [],
   "source": [
    "# Entrenamiento del Modelo (sobre datos transformados por ln)\n",
    "\n",
    "# X,Y,Y_transformada\n",
    "X_COVID = np.expand_dims(np.array(Datos_COVID[\"dia\"].values),1)\n",
    "Y_COVID = np.expand_dims(np.array(Datos_COVID[\"Confirmed\"].values),1)\n",
    "Y_trans_COVID = np.expand_dims(np.array(Datos_COVID[\"ln(confirmed)\"].values),1)"
   ]
  },
  {
   "cell_type": "markdown",
   "metadata": {},
   "source": [
    "#### Primer Experimento (Learning Rate: 0.0001, iteraciones: 1000)"
   ]
  },
  {
   "cell_type": "code",
   "execution_count": 96,
   "metadata": {},
   "outputs": [
    {
     "name": "stdout",
     "output_type": "stream",
     "text": [
      "Coeficientes Modelo Lineal:\n",
      "intercepto:  0.08157749\n",
      "pendiente:  0.15892911\n"
     ]
    }
   ],
   "source": [
    "entrenamiento_COVID(0.0001,1000)"
   ]
  },
  {
   "cell_type": "markdown",
   "metadata": {},
   "source": [
    "<img src=\"./Imagenes_t2/PrimerExperimento_COVID.png\">"
   ]
  },
  {
   "cell_type": "markdown",
   "metadata": {},
   "source": [
    "El MSE empieza a converger, por lo que se incrementara el learning rate y se verificará la tendencia.\n",
    "\n",
    "#### Segundo Experimento (Learning Rate: 0.001, iteraciones: 1000)"
   ]
  },
  {
   "cell_type": "code",
   "execution_count": 99,
   "metadata": {},
   "outputs": [
    {
     "name": "stdout",
     "output_type": "stream",
     "text": [
      "Coeficientes Modelo Lineal:\n",
      "intercepto:  0.69622135\n",
      "pendiente:  0.14316545\n"
     ]
    }
   ],
   "source": [
    "entrenamiento_COVID(0.001,1000)"
   ]
  },
  {
   "cell_type": "markdown",
   "metadata": {},
   "source": [
    "<img src=\"./Imagenes_t2/SegundoExperimento_COVID.png\">"
   ]
  },
  {
   "cell_type": "markdown",
   "metadata": {},
   "source": [
    "El MSE sigue decrementando, por lo que se incrementara nuevamente el learning rate y se verificará la tendencia.\n",
    "\n",
    "#### Segundo Experimento (Learning Rate: 0.01, iteraciones: 1000)"
   ]
  },
  {
   "cell_type": "code",
   "execution_count": 100,
   "metadata": {},
   "outputs": [
    {
     "name": "stdout",
     "output_type": "stream",
     "text": [
      "Coeficientes Modelo Lineal:\n",
      "intercepto:  nan\n",
      "pendiente:  nan\n"
     ]
    }
   ],
   "source": [
    "entrenamiento_COVID(0.01,1000)"
   ]
  },
  {
   "cell_type": "markdown",
   "metadata": {},
   "source": [
    "El MSE empezó a divergir, por lo que se decrementará el learning rate a un valor intermedio, se incrementarán las iteraciones y se verificará la tendencia.\n",
    "\n",
    "#### Tercer Experimento (Learning Rate: 0.0016, iteraciones: 10000)"
   ]
  },
  {
   "cell_type": "code",
   "execution_count": 103,
   "metadata": {},
   "outputs": [
    {
     "name": "stdout",
     "output_type": "stream",
     "text": [
      "Coeficientes Modelo Lineal:\n",
      "intercepto:  3.0148365\n",
      "pendiente:  0.083700314\n"
     ]
    }
   ],
   "source": [
    "entrenamiento_COVID(0.0016,10000)"
   ]
  },
  {
   "cell_type": "markdown",
   "metadata": {},
   "source": [
    "<img src=\"./Imagenes_t2/TercerExperimento_COVID.png\">"
   ]
  },
  {
   "cell_type": "markdown",
   "metadata": {},
   "source": [
    "Este MSE es bastante aceptable, por lo tanto, procedemos a formular el modelo. Se considerará también que hay que transformar de vuelta el resultado obtenido, utilizando la **función exponencial**:"
   ]
  },
  {
   "cell_type": "code",
   "execution_count": 104,
   "metadata": {},
   "outputs": [],
   "source": [
    "def modelo_COVID(valores_X):\n",
    "    return np.exp((0.083700314 * valores_X + 3.0148365))    "
   ]
  },
  {
   "cell_type": "code",
   "execution_count": 106,
   "metadata": {},
   "outputs": [
    {
     "data": {
      "image/png": "[encoded data removed]",
      "text/plain": [
       "<Figure size 432x288 with 1 Axes>"
      ]
     },
     "metadata": {
      "needs_background": "light"
     },
     "output_type": "display_data"
    }
   ],
   "source": [
    "# Obtención del Valores de Predicción\n",
    "Modelo_lineal_Confirmed = modelo_COVID(X_COVID)\n",
    "\n",
    "plt.scatter(X_COVID,Y_COVID,c='green',s=10,label='Confirmed')\n",
    "plt.plot(X_COVID,Modelo_lineal_Confirmed,label='Prediccion')\n",
    "plt.legend(loc = 'best')\n",
    "plt.title('Modelo de Prediccion')\n",
    "plt.xlabel('días')\n",
    "plt.ylabel('Predicción')\n",
    "plt.show()"
   ]
  },
  {
   "cell_type": "markdown",
   "metadata": {},
   "source": [
    "Finalmente, ya teniendo el modelo, se realiza la función para predecir una cantidad de casos confirmados para una fecha específica:"
   ]
  },
  {
   "cell_type": "code",
   "execution_count": 107,
   "metadata": {},
   "outputs": [],
   "source": [
    "def prediccion_COVID(fecha_prediccion,DataFrame,modelo):\n",
    "    \n",
    "    from datetime import datetime\n",
    "    \n",
    "    # Obtención del Número de Día a Predecir\n",
    "    dia_inicial = str(DataFrame[\"Date\"][DataFrame[\"dia\"] == 0].iloc[0])\n",
    "    dia_inicial = dia_inicial[:10]\n",
    "    dia_inicial = datetime.strptime(dia_inicial, \"%Y-%m-%d\")\n",
    "    dia_prediccion = abs(datetime.strptime(fecha_prediccion, \"%Y-%m-%d\") - dia_inicial).days\n",
    "    \n",
    "    # Obtención del número de casos del día a predecir\n",
    "    prediccion = modelo_COVID(dia_prediccion)\n",
    "    print(\"Predicción de casos COVID-19 para el\",fecha_prediccion,\":\",np.around(prediccion,2))\n",
    "    return(prediccion)\n"
   ]
  },
  {
   "cell_type": "markdown",
   "metadata": {},
   "source": [
    "### Predicción de Casos de COVID-19 para una fecha específica:"
   ]
  },
  {
   "cell_type": "code",
   "execution_count": 109,
   "metadata": {},
   "outputs": [
    {
     "name": "stdout",
     "output_type": "stream",
     "text": [
      "Predicción de casos COVID-19 para el 2020-06-06 : 11802.43\n"
     ]
    },
    {
     "data": {
      "text/plain": [
       "11802.425781151082"
      ]
     },
     "execution_count": 109,
     "metadata": {},
     "output_type": "execute_result"
    }
   ],
   "source": [
    "prediccion_COVID('2020-06-06',Datos_COVID,modelo_COVID)"
   ]
  },
  {
   "cell_type": "markdown",
   "metadata": {},
   "source": [
    "## Parte 2 - Modelo polinomial para Calidad de Vino"
   ]
  },
  {
   "cell_type": "code",
   "execution_count": 110,
   "metadata": {},
   "outputs": [
    {
     "data": {
      "text/html": [
       "<div>\n",
       "<style scoped>\n",
       "    .dataframe tbody tr th:only-of-type {\n",
       "        vertical-align: middle;\n",
       "    }\n",
       "\n",
       "    .dataframe tbody tr th {\n",
       "        vertical-align: top;\n",
       "    }\n",
       "\n",
       "    .dataframe thead th {\n",
       "        text-align: right;\n",
       "    }\n",
       "</style>\n",
       "<table border=\"1\" class=\"dataframe\">\n",
       "  <thead>\n",
       "    <tr style=\"text-align: right;\">\n",
       "      <th></th>\n",
       "      <th>fixed acidity</th>\n",
       "      <th>volatile acidity</th>\n",
       "      <th>citric acid</th>\n",
       "      <th>residual sugar</th>\n",
       "      <th>chlorides</th>\n",
       "      <th>free sulfur dioxide</th>\n",
       "      <th>total sulfur dioxide</th>\n",
       "      <th>density</th>\n",
       "      <th>pH</th>\n",
       "      <th>sulphates</th>\n",
       "      <th>alcohol</th>\n",
       "      <th>quality</th>\n",
       "    </tr>\n",
       "  </thead>\n",
       "  <tbody>\n",
       "    <tr>\n",
       "      <th>0</th>\n",
       "      <td>7.4</td>\n",
       "      <td>0.70</td>\n",
       "      <td>0.00</td>\n",
       "      <td>1.9</td>\n",
       "      <td>0.076</td>\n",
       "      <td>11.0</td>\n",
       "      <td>34.0</td>\n",
       "      <td>0.9978</td>\n",
       "      <td>3.51</td>\n",
       "      <td>0.56</td>\n",
       "      <td>9.4</td>\n",
       "      <td>5</td>\n",
       "    </tr>\n",
       "    <tr>\n",
       "      <th>1</th>\n",
       "      <td>7.8</td>\n",
       "      <td>0.88</td>\n",
       "      <td>0.00</td>\n",
       "      <td>2.6</td>\n",
       "      <td>0.098</td>\n",
       "      <td>25.0</td>\n",
       "      <td>67.0</td>\n",
       "      <td>0.9968</td>\n",
       "      <td>3.20</td>\n",
       "      <td>0.68</td>\n",
       "      <td>9.8</td>\n",
       "      <td>5</td>\n",
       "    </tr>\n",
       "    <tr>\n",
       "      <th>2</th>\n",
       "      <td>7.8</td>\n",
       "      <td>0.76</td>\n",
       "      <td>0.04</td>\n",
       "      <td>2.3</td>\n",
       "      <td>0.092</td>\n",
       "      <td>15.0</td>\n",
       "      <td>54.0</td>\n",
       "      <td>0.9970</td>\n",
       "      <td>3.26</td>\n",
       "      <td>0.65</td>\n",
       "      <td>9.8</td>\n",
       "      <td>5</td>\n",
       "    </tr>\n",
       "    <tr>\n",
       "      <th>3</th>\n",
       "      <td>11.2</td>\n",
       "      <td>0.28</td>\n",
       "      <td>0.56</td>\n",
       "      <td>1.9</td>\n",
       "      <td>0.075</td>\n",
       "      <td>17.0</td>\n",
       "      <td>60.0</td>\n",
       "      <td>0.9980</td>\n",
       "      <td>3.16</td>\n",
       "      <td>0.58</td>\n",
       "      <td>9.8</td>\n",
       "      <td>6</td>\n",
       "    </tr>\n",
       "    <tr>\n",
       "      <th>4</th>\n",
       "      <td>7.4</td>\n",
       "      <td>0.70</td>\n",
       "      <td>0.00</td>\n",
       "      <td>1.9</td>\n",
       "      <td>0.076</td>\n",
       "      <td>11.0</td>\n",
       "      <td>34.0</td>\n",
       "      <td>0.9978</td>\n",
       "      <td>3.51</td>\n",
       "      <td>0.56</td>\n",
       "      <td>9.4</td>\n",
       "      <td>5</td>\n",
       "    </tr>\n",
       "  </tbody>\n",
       "</table>\n",
       "</div>"
      ],
      "text/plain": [
       "   fixed acidity  volatile acidity  citric acid  residual sugar  chlorides  \\\n",
       "0            7.4              0.70         0.00             1.9      0.076   \n",
       "1            7.8              0.88         0.00             2.6      0.098   \n",
       "2            7.8              0.76         0.04             2.3      0.092   \n",
       "3           11.2              0.28         0.56             1.9      0.075   \n",
       "4            7.4              0.70         0.00             1.9      0.076   \n",
       "\n",
       "   free sulfur dioxide  total sulfur dioxide  density    pH  sulphates  \\\n",
       "0                 11.0                  34.0   0.9978  3.51       0.56   \n",
       "1                 25.0                  67.0   0.9968  3.20       0.68   \n",
       "2                 15.0                  54.0   0.9970  3.26       0.65   \n",
       "3                 17.0                  60.0   0.9980  3.16       0.58   \n",
       "4                 11.0                  34.0   0.9978  3.51       0.56   \n",
       "\n",
       "   alcohol  quality  \n",
       "0      9.4        5  \n",
       "1      9.8        5  \n",
       "2      9.8        5  \n",
       "3      9.8        6  \n",
       "4      9.4        5  "
      ]
     },
     "execution_count": 110,
     "metadata": {},
     "output_type": "execute_result"
    }
   ],
   "source": [
    "datos_vino = pd.read_csv('winequality-red.csv')\n",
    "datos_vino.head()"
   ]
  },
  {
   "cell_type": "code",
   "execution_count": 111,
   "metadata": {},
   "outputs": [],
   "source": [
    "fixed_acidity = datos_vino[\"fixed acidity\"].values\n",
    "volatile_acidity = datos_vino[\"volatile acidity\"].values\n",
    "citric_acid = datos_vino[\"citric acid\"].values\n",
    "residual_sugar = datos_vino[\"residual sugar\"].values\n",
    "chlorides = datos_vino[\"chlorides\"].values\n",
    "free_sulfur_dioxide = datos_vino[\"free sulfur dioxide\"].values\n",
    "total_sulfur_dioxide = datos_vino[\"total sulfur dioxide\"].values\n",
    "density = datos_vino[\"density\"].values\n",
    "pH = datos_vino[\"pH\"].values\n",
    "sulphates = datos_vino[\"sulphates\"].values\n",
    "alcohol = datos_vino[\"alcohol\"].values\n",
    "calidad = datos_vino[\"quality\"].values"
   ]
  },
  {
   "cell_type": "code",
   "execution_count": 112,
   "metadata": {},
   "outputs": [
    {
     "data": {
      "text/html": [
       "<div>\n",
       "<style scoped>\n",
       "    .dataframe tbody tr th:only-of-type {\n",
       "        vertical-align: middle;\n",
       "    }\n",
       "\n",
       "    .dataframe tbody tr th {\n",
       "        vertical-align: top;\n",
       "    }\n",
       "\n",
       "    .dataframe thead th {\n",
       "        text-align: right;\n",
       "    }\n",
       "</style>\n",
       "<table border=\"1\" class=\"dataframe\">\n",
       "  <thead>\n",
       "    <tr style=\"text-align: right;\">\n",
       "      <th></th>\n",
       "      <th>fixed acidity</th>\n",
       "      <th>volatile acidity</th>\n",
       "      <th>citric acid</th>\n",
       "      <th>residual sugar</th>\n",
       "      <th>chlorides</th>\n",
       "      <th>free sulfur dioxide</th>\n",
       "      <th>total sulfur dioxide</th>\n",
       "      <th>density</th>\n",
       "      <th>pH</th>\n",
       "      <th>sulphates</th>\n",
       "      <th>alcohol</th>\n",
       "      <th>quality</th>\n",
       "    </tr>\n",
       "  </thead>\n",
       "  <tbody>\n",
       "    <tr>\n",
       "      <th>fixed acidity</th>\n",
       "      <td>1.000000</td>\n",
       "      <td>-0.256131</td>\n",
       "      <td>0.671703</td>\n",
       "      <td>0.114777</td>\n",
       "      <td>0.093705</td>\n",
       "      <td>-0.153794</td>\n",
       "      <td>-0.113181</td>\n",
       "      <td>0.668047</td>\n",
       "      <td>-0.682978</td>\n",
       "      <td>0.183006</td>\n",
       "      <td>-0.061668</td>\n",
       "      <td>0.124052</td>\n",
       "    </tr>\n",
       "    <tr>\n",
       "      <th>volatile acidity</th>\n",
       "      <td>-0.256131</td>\n",
       "      <td>1.000000</td>\n",
       "      <td>-0.552496</td>\n",
       "      <td>0.001918</td>\n",
       "      <td>0.061298</td>\n",
       "      <td>-0.010504</td>\n",
       "      <td>0.076470</td>\n",
       "      <td>0.022026</td>\n",
       "      <td>0.234937</td>\n",
       "      <td>-0.260987</td>\n",
       "      <td>-0.202288</td>\n",
       "      <td>-0.390558</td>\n",
       "    </tr>\n",
       "    <tr>\n",
       "      <th>citric acid</th>\n",
       "      <td>0.671703</td>\n",
       "      <td>-0.552496</td>\n",
       "      <td>1.000000</td>\n",
       "      <td>0.143577</td>\n",
       "      <td>0.203823</td>\n",
       "      <td>-0.060978</td>\n",
       "      <td>0.035533</td>\n",
       "      <td>0.364947</td>\n",
       "      <td>-0.541904</td>\n",
       "      <td>0.312770</td>\n",
       "      <td>0.109903</td>\n",
       "      <td>0.226373</td>\n",
       "    </tr>\n",
       "    <tr>\n",
       "      <th>residual sugar</th>\n",
       "      <td>0.114777</td>\n",
       "      <td>0.001918</td>\n",
       "      <td>0.143577</td>\n",
       "      <td>1.000000</td>\n",
       "      <td>0.055610</td>\n",
       "      <td>0.187049</td>\n",
       "      <td>0.203028</td>\n",
       "      <td>0.355283</td>\n",
       "      <td>-0.085652</td>\n",
       "      <td>0.005527</td>\n",
       "      <td>0.042075</td>\n",
       "      <td>0.013732</td>\n",
       "    </tr>\n",
       "    <tr>\n",
       "      <th>chlorides</th>\n",
       "      <td>0.093705</td>\n",
       "      <td>0.061298</td>\n",
       "      <td>0.203823</td>\n",
       "      <td>0.055610</td>\n",
       "      <td>1.000000</td>\n",
       "      <td>0.005562</td>\n",
       "      <td>0.047400</td>\n",
       "      <td>0.200632</td>\n",
       "      <td>-0.265026</td>\n",
       "      <td>0.371260</td>\n",
       "      <td>-0.221141</td>\n",
       "      <td>-0.128907</td>\n",
       "    </tr>\n",
       "    <tr>\n",
       "      <th>free sulfur dioxide</th>\n",
       "      <td>-0.153794</td>\n",
       "      <td>-0.010504</td>\n",
       "      <td>-0.060978</td>\n",
       "      <td>0.187049</td>\n",
       "      <td>0.005562</td>\n",
       "      <td>1.000000</td>\n",
       "      <td>0.667666</td>\n",
       "      <td>-0.021946</td>\n",
       "      <td>0.070377</td>\n",
       "      <td>0.051658</td>\n",
       "      <td>-0.069408</td>\n",
       "      <td>-0.050656</td>\n",
       "    </tr>\n",
       "    <tr>\n",
       "      <th>total sulfur dioxide</th>\n",
       "      <td>-0.113181</td>\n",
       "      <td>0.076470</td>\n",
       "      <td>0.035533</td>\n",
       "      <td>0.203028</td>\n",
       "      <td>0.047400</td>\n",
       "      <td>0.667666</td>\n",
       "      <td>1.000000</td>\n",
       "      <td>0.071269</td>\n",
       "      <td>-0.066495</td>\n",
       "      <td>0.042947</td>\n",
       "      <td>-0.205654</td>\n",
       "      <td>-0.185100</td>\n",
       "    </tr>\n",
       "    <tr>\n",
       "      <th>density</th>\n",
       "      <td>0.668047</td>\n",
       "      <td>0.022026</td>\n",
       "      <td>0.364947</td>\n",
       "      <td>0.355283</td>\n",
       "      <td>0.200632</td>\n",
       "      <td>-0.021946</td>\n",
       "      <td>0.071269</td>\n",
       "      <td>1.000000</td>\n",
       "      <td>-0.341699</td>\n",
       "      <td>0.148506</td>\n",
       "      <td>-0.496180</td>\n",
       "      <td>-0.174919</td>\n",
       "    </tr>\n",
       "    <tr>\n",
       "      <th>pH</th>\n",
       "      <td>-0.682978</td>\n",
       "      <td>0.234937</td>\n",
       "      <td>-0.541904</td>\n",
       "      <td>-0.085652</td>\n",
       "      <td>-0.265026</td>\n",
       "      <td>0.070377</td>\n",
       "      <td>-0.066495</td>\n",
       "      <td>-0.341699</td>\n",
       "      <td>1.000000</td>\n",
       "      <td>-0.196648</td>\n",
       "      <td>0.205633</td>\n",
       "      <td>-0.057731</td>\n",
       "    </tr>\n",
       "    <tr>\n",
       "      <th>sulphates</th>\n",
       "      <td>0.183006</td>\n",
       "      <td>-0.260987</td>\n",
       "      <td>0.312770</td>\n",
       "      <td>0.005527</td>\n",
       "      <td>0.371260</td>\n",
       "      <td>0.051658</td>\n",
       "      <td>0.042947</td>\n",
       "      <td>0.148506</td>\n",
       "      <td>-0.196648</td>\n",
       "      <td>1.000000</td>\n",
       "      <td>0.093595</td>\n",
       "      <td>0.251397</td>\n",
       "    </tr>\n",
       "    <tr>\n",
       "      <th>alcohol</th>\n",
       "      <td>-0.061668</td>\n",
       "      <td>-0.202288</td>\n",
       "      <td>0.109903</td>\n",
       "      <td>0.042075</td>\n",
       "      <td>-0.221141</td>\n",
       "      <td>-0.069408</td>\n",
       "      <td>-0.205654</td>\n",
       "      <td>-0.496180</td>\n",
       "      <td>0.205633</td>\n",
       "      <td>0.093595</td>\n",
       "      <td>1.000000</td>\n",
       "      <td>0.476166</td>\n",
       "    </tr>\n",
       "    <tr>\n",
       "      <th>quality</th>\n",
       "      <td>0.124052</td>\n",
       "      <td>-0.390558</td>\n",
       "      <td>0.226373</td>\n",
       "      <td>0.013732</td>\n",
       "      <td>-0.128907</td>\n",
       "      <td>-0.050656</td>\n",
       "      <td>-0.185100</td>\n",
       "      <td>-0.174919</td>\n",
       "      <td>-0.057731</td>\n",
       "      <td>0.251397</td>\n",
       "      <td>0.476166</td>\n",
       "      <td>1.000000</td>\n",
       "    </tr>\n",
       "  </tbody>\n",
       "</table>\n",
       "</div>"
      ],
      "text/plain": [
       "                      fixed acidity  volatile acidity  citric acid  \\\n",
       "fixed acidity              1.000000         -0.256131     0.671703   \n",
       "volatile acidity          -0.256131          1.000000    -0.552496   \n",
       "citric acid                0.671703         -0.552496     1.000000   \n",
       "residual sugar             0.114777          0.001918     0.143577   \n",
       "chlorides                  0.093705          0.061298     0.203823   \n",
       "free sulfur dioxide       -0.153794         -0.010504    -0.060978   \n",
       "total sulfur dioxide      -0.113181          0.076470     0.035533   \n",
       "density                    0.668047          0.022026     0.364947   \n",
       "pH                        -0.682978          0.234937    -0.541904   \n",
       "sulphates                  0.183006         -0.260987     0.312770   \n",
       "alcohol                   -0.061668         -0.202288     0.109903   \n",
       "quality                    0.124052         -0.390558     0.226373   \n",
       "\n",
       "                      residual sugar  chlorides  free sulfur dioxide  \\\n",
       "fixed acidity               0.114777   0.093705            -0.153794   \n",
       "volatile acidity            0.001918   0.061298            -0.010504   \n",
       "citric acid                 0.143577   0.203823            -0.060978   \n",
       "residual sugar              1.000000   0.055610             0.187049   \n",
       "chlorides                   0.055610   1.000000             0.005562   \n",
       "free sulfur dioxide         0.187049   0.005562             1.000000   \n",
       "total sulfur dioxide        0.203028   0.047400             0.667666   \n",
       "density                     0.355283   0.200632            -0.021946   \n",
       "pH                         -0.085652  -0.265026             0.070377   \n",
       "sulphates                   0.005527   0.371260             0.051658   \n",
       "alcohol                     0.042075  -0.221141            -0.069408   \n",
       "quality                     0.013732  -0.128907            -0.050656   \n",
       "\n",
       "                      total sulfur dioxide   density        pH  sulphates  \\\n",
       "fixed acidity                    -0.113181  0.668047 -0.682978   0.183006   \n",
       "volatile acidity                  0.076470  0.022026  0.234937  -0.260987   \n",
       "citric acid                       0.035533  0.364947 -0.541904   0.312770   \n",
       "residual sugar                    0.203028  0.355283 -0.085652   0.005527   \n",
       "chlorides                         0.047400  0.200632 -0.265026   0.371260   \n",
       "free sulfur dioxide               0.667666 -0.021946  0.070377   0.051658   \n",
       "total sulfur dioxide              1.000000  0.071269 -0.066495   0.042947   \n",
       "density                           0.071269  1.000000 -0.341699   0.148506   \n",
       "pH                               -0.066495 -0.341699  1.000000  -0.196648   \n",
       "sulphates                         0.042947  0.148506 -0.196648   1.000000   \n",
       "alcohol                          -0.205654 -0.496180  0.205633   0.093595   \n",
       "quality                          -0.185100 -0.174919 -0.057731   0.251397   \n",
       "\n",
       "                       alcohol   quality  \n",
       "fixed acidity        -0.061668  0.124052  \n",
       "volatile acidity     -0.202288 -0.390558  \n",
       "citric acid           0.109903  0.226373  \n",
       "residual sugar        0.042075  0.013732  \n",
       "chlorides            -0.221141 -0.128907  \n",
       "free sulfur dioxide  -0.069408 -0.050656  \n",
       "total sulfur dioxide -0.205654 -0.185100  \n",
       "density              -0.496180 -0.174919  \n",
       "pH                    0.205633 -0.057731  \n",
       "sulphates             0.093595  0.251397  \n",
       "alcohol               1.000000  0.476166  \n",
       "quality               0.476166  1.000000  "
      ]
     },
     "execution_count": 112,
     "metadata": {},
     "output_type": "execute_result"
    }
   ],
   "source": [
    "datos_vino.corr()"
   ]
  },
  {
   "cell_type": "code",
   "execution_count": 113,
   "metadata": {},
   "outputs": [
    {
     "data": {
      "image/png": "[encoded data removed]",
      "text/plain": [
       "<Figure size 1728x864 with 12 Axes>"
      ]
     },
     "metadata": {
      "needs_background": "light"
     },
     "output_type": "display_data"
    }
   ],
   "source": [
    "fig, ax = plt.subplots(3, 4, figsize=(24, 12))\n",
    "                      \n",
    "# Matriz de Figuras\n",
    "ax[0, 0].scatter(fixed_acidity, calidad)\n",
    "ax[0, 0].set(xlabel='fixed_acidity', ylabel='Calidad')\n",
    "\n",
    "ax[0, 1].scatter(volatile_acidity, calidad)\n",
    "ax[0, 1].set(xlabel='volatile acidity', ylabel='Calidad')\n",
    "ax[0, 1].set_facecolor((0.5, 0.8, 0.5))\n",
    "\n",
    "ax[0, 2].scatter(citric_acid, calidad)\n",
    "ax[0, 2].set(xlabel='citric acid', ylabel='Calidad')\n",
    "\n",
    "ax[0, 3].scatter(residual_sugar, calidad)\n",
    "ax[0, 3].set(xlabel='residual sugar', ylabel='Calidad')\n",
    "\n",
    "ax[1, 0].scatter(chlorides, calidad)\n",
    "ax[1, 0].set(xlabel='chlorides', ylabel='Calidad')\n",
    "\n",
    "ax[1, 1].scatter(free_sulfur_dioxide, calidad)\n",
    "ax[1, 1].set(xlabel='free sulfur dioxide', ylabel='Calidad')\n",
    "\n",
    "ax[1, 2].scatter(total_sulfur_dioxide, calidad)\n",
    "ax[1, 2].set(xlabel='total sulfur dioxide', ylabel='Calidad')\n",
    "\n",
    "ax[1, 3].scatter(density, calidad)\n",
    "ax[1, 3].set(xlabel='density', ylabel='Calidad')\n",
    "\n",
    "ax[2, 0].scatter(pH, calidad)\n",
    "ax[2, 0].set(xlabel='pH', ylabel='Calidad')\n",
    "\n",
    "ax[2, 1].scatter(sulphates, calidad)\n",
    "ax[2, 1].set(xlabel='sulphates', ylabel='Calidad')\n",
    "\n",
    "ax[2, 2].scatter(alcohol, calidad)\n",
    "ax[2, 2].set(xlabel='alcohol', ylabel='Calidad')\n",
    "ax[2, 2].set_facecolor((1, 1, 0.7))\n",
    "\n",
    "ax[2, 3].scatter(calidad, calidad)\n",
    "ax[2, 3].set(xlabel='quality', ylabel='Calidad')\n",
    "\n",
    "plt.show()"
   ]
  },
  {
   "cell_type": "markdown",
   "metadata": {},
   "source": [
    "Con base en este análisis exploratorio en la matriz de correlación y los scatter plots, las correlaciones más grandes entre la calidad del vino y sus características ocurre con **volatile acidity** y con **alcohol**. \n",
    "\n",
    "El coeficiente de correlación entre la calidad del vino y su acidez volátil es de **-0.390558**, y con el contenido de alcohol es de **0.476166**. Por lo tanto se trabajará el modelo con estas dos características."
   ]
  },
  {
   "cell_type": "markdown",
   "metadata": {},
   "source": [
    "#### Modelo Polinomial con Scikit-Learn\n",
    "\n",
    "Inicialmente se formará la \"matriz X\" que contendrá como columnas las características mencionadas con anterioridad:"
   ]
  },
  {
   "cell_type": "code",
   "execution_count": 114,
   "metadata": {},
   "outputs": [],
   "source": [
    "matriz_X = np.matrix([volatile_acidity,alcohol]).T"
   ]
  },
  {
   "cell_type": "markdown",
   "metadata": {},
   "source": [
    "Se encuentra la matriz de caracterísiticas polinomiales y de interacción.\n",
    "Se seleccionará para esta práctica, un polinomio de grado 2."
   ]
  },
  {
   "cell_type": "code",
   "execution_count": 115,
   "metadata": {},
   "outputs": [
    {
     "data": {
      "text/html": [
       "<div>\n",
       "<style scoped>\n",
       "    .dataframe tbody tr th:only-of-type {\n",
       "        vertical-align: middle;\n",
       "    }\n",
       "\n",
       "    .dataframe tbody tr th {\n",
       "        vertical-align: top;\n",
       "    }\n",
       "\n",
       "    .dataframe thead th {\n",
       "        text-align: right;\n",
       "    }\n",
       "</style>\n",
       "<table border=\"1\" class=\"dataframe\">\n",
       "  <thead>\n",
       "    <tr style=\"text-align: right;\">\n",
       "      <th></th>\n",
       "      <th>intercepto</th>\n",
       "      <th>volatile acidity</th>\n",
       "      <th>alcohol</th>\n",
       "      <th>(volatile acidity)^2</th>\n",
       "      <th>(volatile acidity * alcohol)</th>\n",
       "      <th>(alcohol)^2</th>\n",
       "    </tr>\n",
       "  </thead>\n",
       "  <tbody>\n",
       "    <tr>\n",
       "      <th>0</th>\n",
       "      <td>1.0</td>\n",
       "      <td>0.700</td>\n",
       "      <td>9.4</td>\n",
       "      <td>0.490000</td>\n",
       "      <td>6.580</td>\n",
       "      <td>88.36</td>\n",
       "    </tr>\n",
       "    <tr>\n",
       "      <th>1</th>\n",
       "      <td>1.0</td>\n",
       "      <td>0.880</td>\n",
       "      <td>9.8</td>\n",
       "      <td>0.774400</td>\n",
       "      <td>8.624</td>\n",
       "      <td>96.04</td>\n",
       "    </tr>\n",
       "    <tr>\n",
       "      <th>2</th>\n",
       "      <td>1.0</td>\n",
       "      <td>0.760</td>\n",
       "      <td>9.8</td>\n",
       "      <td>0.577600</td>\n",
       "      <td>7.448</td>\n",
       "      <td>96.04</td>\n",
       "    </tr>\n",
       "    <tr>\n",
       "      <th>3</th>\n",
       "      <td>1.0</td>\n",
       "      <td>0.280</td>\n",
       "      <td>9.8</td>\n",
       "      <td>0.078400</td>\n",
       "      <td>2.744</td>\n",
       "      <td>96.04</td>\n",
       "    </tr>\n",
       "    <tr>\n",
       "      <th>4</th>\n",
       "      <td>1.0</td>\n",
       "      <td>0.700</td>\n",
       "      <td>9.4</td>\n",
       "      <td>0.490000</td>\n",
       "      <td>6.580</td>\n",
       "      <td>88.36</td>\n",
       "    </tr>\n",
       "    <tr>\n",
       "      <th>...</th>\n",
       "      <td>...</td>\n",
       "      <td>...</td>\n",
       "      <td>...</td>\n",
       "      <td>...</td>\n",
       "      <td>...</td>\n",
       "      <td>...</td>\n",
       "    </tr>\n",
       "    <tr>\n",
       "      <th>1594</th>\n",
       "      <td>1.0</td>\n",
       "      <td>0.600</td>\n",
       "      <td>10.5</td>\n",
       "      <td>0.360000</td>\n",
       "      <td>6.300</td>\n",
       "      <td>110.25</td>\n",
       "    </tr>\n",
       "    <tr>\n",
       "      <th>1595</th>\n",
       "      <td>1.0</td>\n",
       "      <td>0.550</td>\n",
       "      <td>11.2</td>\n",
       "      <td>0.302500</td>\n",
       "      <td>6.160</td>\n",
       "      <td>125.44</td>\n",
       "    </tr>\n",
       "    <tr>\n",
       "      <th>1596</th>\n",
       "      <td>1.0</td>\n",
       "      <td>0.510</td>\n",
       "      <td>11.0</td>\n",
       "      <td>0.260100</td>\n",
       "      <td>5.610</td>\n",
       "      <td>121.00</td>\n",
       "    </tr>\n",
       "    <tr>\n",
       "      <th>1597</th>\n",
       "      <td>1.0</td>\n",
       "      <td>0.645</td>\n",
       "      <td>10.2</td>\n",
       "      <td>0.416025</td>\n",
       "      <td>6.579</td>\n",
       "      <td>104.04</td>\n",
       "    </tr>\n",
       "    <tr>\n",
       "      <th>1598</th>\n",
       "      <td>1.0</td>\n",
       "      <td>0.310</td>\n",
       "      <td>11.0</td>\n",
       "      <td>0.096100</td>\n",
       "      <td>3.410</td>\n",
       "      <td>121.00</td>\n",
       "    </tr>\n",
       "  </tbody>\n",
       "</table>\n",
       "<p>1599 rows × 6 columns</p>\n",
       "</div>"
      ],
      "text/plain": [
       "      intercepto  volatile acidity  alcohol  (volatile acidity)^2  \\\n",
       "0            1.0             0.700      9.4              0.490000   \n",
       "1            1.0             0.880      9.8              0.774400   \n",
       "2            1.0             0.760      9.8              0.577600   \n",
       "3            1.0             0.280      9.8              0.078400   \n",
       "4            1.0             0.700      9.4              0.490000   \n",
       "...          ...               ...      ...                   ...   \n",
       "1594         1.0             0.600     10.5              0.360000   \n",
       "1595         1.0             0.550     11.2              0.302500   \n",
       "1596         1.0             0.510     11.0              0.260100   \n",
       "1597         1.0             0.645     10.2              0.416025   \n",
       "1598         1.0             0.310     11.0              0.096100   \n",
       "\n",
       "      (volatile acidity * alcohol)  (alcohol)^2  \n",
       "0                            6.580        88.36  \n",
       "1                            8.624        96.04  \n",
       "2                            7.448        96.04  \n",
       "3                            2.744        96.04  \n",
       "4                            6.580        88.36  \n",
       "...                            ...          ...  \n",
       "1594                         6.300       110.25  \n",
       "1595                         6.160       125.44  \n",
       "1596                         5.610       121.00  \n",
       "1597                         6.579       104.04  \n",
       "1598                         3.410       121.00  \n",
       "\n",
       "[1599 rows x 6 columns]"
      ]
     },
     "execution_count": 115,
     "metadata": {},
     "output_type": "execute_result"
    }
   ],
   "source": [
    "from sklearn.preprocessing import PolynomialFeatures\n",
    "\n",
    "poly = PolynomialFeatures(2)\n",
    "matriz_X_transformada = poly.fit_transform(matriz_X)\n",
    "\n",
    "data_frame_features=pd.DataFrame(matriz_X_transformada)\n",
    "data_frame_features.columns= ['intercepto','volatile acidity','alcohol',\n",
    "                     '(volatile acidity)^2','(volatile acidity * alcohol)','(alcohol)^2']\n",
    "\n",
    "data_frame_features\n"
   ]
  },
  {
   "cell_type": "markdown",
   "metadata": {},
   "source": [
    "### TensorFlow\n",
    "\n",
    "Se definirá el grafo para calcular regresión polinomial utilizando el feature engineering resumido en la matriz anterior.\n",
    "\n",
    "### Definición del Grafo"
   ]
  },
  {
   "cell_type": "code",
   "execution_count": 116,
   "metadata": {},
   "outputs": [],
   "source": [
    "grafo = tf.Graph()\n",
    "\n",
    "with grafo.as_default():\n",
    "    \n",
    "    # Placeholders\n",
    "    learning_rate = tf.placeholder(tf.float32,name=\"lr\") # Hiper-parámetro de Tasa de Aprendizaje\n",
    "    tensor_x = tf.placeholder(tf.float32,[1599,6],\"tensor_x\") # Placeholder de Matriz de Features.\n",
    "    tensor_y = tf.placeholder(tf.float32,[1599,1],\"tensor_y\") # Placeholder de Calidad en el grafo.\n",
    "\n",
    "    # Variables \n",
    "    W = tf.get_variable(name=\"W\",dtype=tf.float32,shape=[6,1],initializer=tf.zeros_initializer())\n",
    "\n",
    "    # Cálculo vectorizado del Modelo Y = x*W\n",
    "    with tf.name_scope(\"modelo_lineal\"):\n",
    "        prediccion = tf.matmul(tensor_x,W) # Hipótesis del modelo\n",
    "\n",
    "    with tf.name_scope(\"error_modelo\"):\n",
    "        # Cálculo vectorizado del Error de la Hipótesis (MSE)\n",
    "        error = tf.reduce_mean(tf.math.square(tf.math.subtract(tensor_y,prediccion))) / 2\n",
    "        error_summary = tf.summary.scalar(\"error\",error)\n",
    "\n",
    "    with tf.name_scope(\"gradiente_error\"):\n",
    "        # Gradiente sobre el error (b,m1,m2,m3,m4,m5)\n",
    "        gradiente = tf.gradients(error,[W]) # Se usa la auto-diferenciación de TensorFlow\n",
    "\n",
    "    with tf.name_scope(\"actualizacion_parametros\"):\n",
    "        # Actualización de parámetros\n",
    "        actualizacion_b = tf.assign(W[0], W[0] - learning_rate*gradiente[0][0]) # Intercepto\n",
    "        actualizacion_m1 = tf.assign(W[1], W[1] - learning_rate*gradiente[0][1]) # volatile acidity\n",
    "        actualizacion_m2 = tf.assign(W[2], W[2] - learning_rate*gradiente[0][2]) # alcohol\n",
    "        actualizacion_m3 = tf.assign(W[3], W[3] - learning_rate*gradiente[0][3]) # (volatile acidity)^2\t\n",
    "        actualizacion_m4 = tf.assign(W[4], W[4] - learning_rate*gradiente[0][4]) # (volatile acidity * alcohol)      \n",
    "        actualizacion_m5 = tf.assign(W[5], W[5] - learning_rate*gradiente[0][5]) # (alcohol)^2\n",
    "        actualizacion_parametros = tf.group(actualizacion_b,actualizacion_m1,actualizacion_m2,\n",
    "                                           actualizacion_m3,actualizacion_m4,actualizacion_m5)\n",
    "    \n",
    "    init = tf.global_variables_initializer()"
   ]
  },
  {
   "cell_type": "markdown",
   "metadata": {},
   "source": [
    "#### Grafo\n",
    "\n",
    "<img src=\"./Imagenes_t2/Grafo_Vinos.png\">\n",
    "\n",
    "\n",
    "#### Grafo Desplegado\n",
    "\n",
    "<img src=\"./Imagenes_t2/Grafo_Vinos_Desplegado.png\">"
   ]
  },
  {
   "cell_type": "markdown",
   "metadata": {},
   "source": [
    "### Ejecución"
   ]
  },
  {
   "cell_type": "code",
   "execution_count": 118,
   "metadata": {},
   "outputs": [],
   "source": [
    "# Función de Entrenamiento con Batch Gradient Descent (parámetros Learning Rate y Número de Iteraciones)\n",
    "def entrenamiento(lr,iteraciones):\n",
    "    \n",
    "    now = datetime.datetime.now()\n",
    "    \n",
    "    tf.reset_default_graph()\n",
    "    with tf.Session(graph=grafo) as session:\n",
    "\n",
    "        # String de Configuración \n",
    "        #(\"Año\"\"Mes\"\"Dia\"-\"Hora\"\"Minuto\"\"Segundo\"-\"lr=\"\"valor Learning Rate\"-\"pol_grad=\"\"grado polinomio\"-\"it=\"\"iteracion\")\n",
    "        writer = tf.summary.FileWriter('./graphs_t2/'+now.strftime(\"%Y%m%d-%H%M%S\")+'-lr='+str(lr) \\\n",
    "                                       +'-pol_grad=2'+'-it='+str(iteraciones), session.graph)\n",
    " \n",
    "        session.run(init) # Inicialización de Variables\n",
    "\n",
    "        feed_dict = {tensor_x:matriz_X_transformada,tensor_y:np.expand_dims(calidad,axis=1),learning_rate:lr}\n",
    "        predicciones = session.run(prediccion,feed_dict=feed_dict)\n",
    "\n",
    "        for i in range(iteraciones):\n",
    "\n",
    "            if (i+1) % 1 == 0 or i == 0:\n",
    "\n",
    "                MSE_summary = session.run(error_summary,feed_dict=feed_dict)\n",
    "                writer.add_summary(MSE_summary, i) # Escalar del MSE\n",
    "         \n",
    "            # Gradient Descent\n",
    "            session.run(actualizacion_parametros,feed_dict=feed_dict)\n",
    "            predicciones = session.run(prediccion,feed_dict=feed_dict)\n",
    "            \n",
    "        print(\"Matriz de coeficientes:\")\n",
    "        print(\"intercepto: \",session.run([W])[0][0])\n",
    "        print(\"volatile acidity: \",session.run([W])[0][1])\n",
    "        print(\"alcohol:\",session.run([W])[0][2])\n",
    "        print(\"(volatile acidity)^2: \",session.run([W])[0][3])\n",
    "        print(\"(volatile acidity * alcohol):\",session.run([W])[0][4])\n",
    "        print(\"(alcohol)^2:\",session.run([W])[0][5])\n",
    "        \n",
    "  \n",
    "        writer.close()"
   ]
  },
  {
   "cell_type": "markdown",
   "metadata": {},
   "source": [
    "#### Primer Experimento\n",
    "Se iniciará con un Learning Rate: 0.00001 e iteraciones: 100"
   ]
  },
  {
   "cell_type": "code",
   "execution_count": 119,
   "metadata": {},
   "outputs": [
    {
     "name": "stdout",
     "output_type": "stream",
     "text": [
      "Matriz de coeficientes:\n",
      "intercepto:  [0.00059163]\n",
      "volatile acidity:  [0.0002934]\n",
      "alcohol: [0.00544934]\n",
      "(volatile acidity)^2:  [0.00015554]\n",
      "(volatile acidity * alcohol): [0.00267535]\n",
      "(alcohol)^2: [0.04921415]\n"
     ]
    }
   ],
   "source": [
    "entrenamiento(0.00001,100)"
   ]
  },
  {
   "cell_type": "markdown",
   "metadata": {},
   "source": [
    "<img src=\"./Imagenes_t2/PrimerExperimento_Vinos.png\">\n",
    "\n",
    "\n",
    "#### Segundo Experimento\n",
    "Se observa convergencia del MSE. Se incrementará el Learning Rate: 0.0001 manteniendo las iteraciones: 100"
   ]
  },
  {
   "cell_type": "code",
   "execution_count": 120,
   "metadata": {},
   "outputs": [
    {
     "name": "stdout",
     "output_type": "stream",
     "text": [
      "Matriz de coeficientes:\n",
      "intercepto:  [0.00203343]\n",
      "volatile acidity:  [0.00090692]\n",
      "alcohol: [0.01321832]\n",
      "(volatile acidity)^2:  [0.00036974]\n",
      "(volatile acidity * alcohol): [0.00537622]\n",
      "(alcohol)^2: [0.04834742]\n"
     ]
    }
   ],
   "source": [
    "entrenamiento(0.0001,100)"
   ]
  },
  {
   "cell_type": "markdown",
   "metadata": {},
   "source": [
    "<img src=\"./Imagenes_t2/SegundoExperimento_Vinos.png\">\n",
    "\n",
    "\n",
    "#### Tercer Experimento\n",
    "No se observa cambio significativo en el MSE. Se incrementará el Learning Rate: 0.001 manteniendo las iteraciones: 100"
   ]
  },
  {
   "cell_type": "code",
   "execution_count": 121,
   "metadata": {},
   "outputs": [
    {
     "name": "stdout",
     "output_type": "stream",
     "text": [
      "Matriz de coeficientes:\n",
      "intercepto:  [nan]\n",
      "volatile acidity:  [nan]\n",
      "alcohol: [nan]\n",
      "(volatile acidity)^2:  [nan]\n",
      "(volatile acidity * alcohol): [nan]\n",
      "(alcohol)^2: [nan]\n"
     ]
    }
   ],
   "source": [
    "entrenamiento(0.001,100)"
   ]
  },
  {
   "cell_type": "markdown",
   "metadata": {},
   "source": [
    "#### Cuarto Experimento\n",
    "Aquí se encuentra ya divergencia del MSE. Por lo tanto, se decrementará el Learning Rate al valor anterior: 0.0001 subiendo las iteraciones: 1000"
   ]
  },
  {
   "cell_type": "code",
   "execution_count": 125,
   "metadata": {},
   "outputs": [
    {
     "name": "stdout",
     "output_type": "stream",
     "text": [
      "Matriz de coeficientes:\n",
      "intercepto:  [0.01536227]\n",
      "volatile acidity:  [0.00593119]\n",
      "alcohol: [0.08505818]\n",
      "(volatile acidity)^2:  [0.00157797]\n",
      "(volatile acidity * alcohol): [0.02349982]\n",
      "(alcohol)^2: [0.04066562]\n"
     ]
    }
   ],
   "source": [
    "entrenamiento(0.00010,1000)"
   ]
  },
  {
   "cell_type": "markdown",
   "metadata": {},
   "source": [
    "<img src=\"./Imagenes_t2/CuartoExperimento_Vinos.png\">\n",
    "\n",
    "\n",
    "#### Quinto Experimento\n",
    "El MSE sigue decrementando. Se mantendrá el Learning Rate: 0.001 subiendo las iteraciones: 10000"
   ]
  },
  {
   "cell_type": "code",
   "execution_count": 126,
   "metadata": {},
   "outputs": [
    {
     "name": "stdout",
     "output_type": "stream",
     "text": [
      "Matriz de coeficientes:\n",
      "intercepto:  [0.09176505]\n",
      "volatile acidity:  [0.01935531]\n",
      "alcohol: [0.49740353]\n",
      "(volatile acidity)^2:  [-0.01002178]\n",
      "(volatile acidity * alcohol): [-0.03507382]\n",
      "(alcohol)^2: [0.00448725]\n"
     ]
    }
   ],
   "source": [
    "entrenamiento(0.00010,10000)"
   ]
  },
  {
   "cell_type": "markdown",
   "metadata": {},
   "source": [
    "<img src=\"./Imagenes_t2/QuintoExperimento_Vinos.png\">\n",
    "\n",
    "\n",
    "#### Sexto Experimento\n",
    "Se observa convergencia. Se mantendrá el Learning Rate: 0.001 subiendo las iteraciones: 50000"
   ]
  },
  {
   "cell_type": "code",
   "execution_count": 127,
   "metadata": {},
   "outputs": [
    {
     "name": "stdout",
     "output_type": "stream",
     "text": [
      "Matriz de coeficientes:\n",
      "intercepto:  [0.14576715]\n",
      "volatile acidity:  [0.0237781]\n",
      "alcohol: [0.7904866]\n",
      "(volatile acidity)^2:  [-0.02709518]\n",
      "(volatile acidity * alcohol): [-0.12868886]\n",
      "(alcohol)^2: [-0.01868645]\n"
     ]
    }
   ],
   "source": [
    "entrenamiento(0.00010,50000)"
   ]
  },
  {
   "cell_type": "markdown",
   "metadata": {},
   "source": [
    "<img src=\"./Imagenes_t2/SextoExperimento_Vinos.png\">\n",
    "\n",
    "\n",
    "\n",
    "Este resultado es más satisfactorio, ya que se observa convergencia del MSE con varias iteraciones."
   ]
  },
  {
   "cell_type": "markdown",
   "metadata": {},
   "source": [
    "## Conclusiones\n",
    "- Las variables **volatile acidity** y **alcohol** con las que mostraron mayor correlación con la variable **quality** del vino. El coeficiente de correlación entre la calidad del vino y su acidez volátil es de **-0.390558**, y con el contenido de alcohol es de **0.476166**. Por este motivo se seleccionaron ambas variables para el modelo polinomial. \n",
    "\n",
    "- El modelo entrenado muestra una convergencia del MSE a un valor de aproximadamente **0.2219**, el cual se logró en el Sexto Experimento. Este valor se alcanzó prácticamente en la iteración 45,000. Por tanto se concluye que es un valor aceptable de convergencia, pues el último experimento tuvo 50,000 iteraciones.\n",
    "\n",
    "- El modelo polinomial de segundo grado, con términos de interacción final es:\n",
    "\n",
    "- $quality = 0.14576715 + 0.0237781*(volatile\\_acidity) + 0.7904866*(alcohol) - 0.02709518*(volatile\\_acidity)^2 - 0.12868886*(volatile\\_acidity * alcohol) - 0.01868645*(alcohol)^2$"
   ]
  }
 ],
 "metadata": {
  "kernelspec": {
   "display_name": "Python 3",
   "language": "python",
   "name": "python3"
  },
  "language_info": {
   "codemirror_mode": {
    "name": "ipython",
    "version": 3
   },
   "file_extension": ".py",
   "mimetype": "text/x-python",
   "name": "python",
   "nbconvert_exporter": "python",
   "pygments_lexer": "ipython3",
   "version": "3.7.7"
  }
 },
 "nbformat": 4,
 "nbformat_minor": 4
}
